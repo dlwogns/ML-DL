{
  "nbformat": 4,
  "nbformat_minor": 0,
  "metadata": {
    "colab": {
      "provenance": [],
      "mount_file_id": "1ZNXel3R7Zg0cVhKY6fRpzwdhzYIJZXGI",
      "authorship_tag": "ABX9TyN1GqrUE1bv2LRUOGrT7J7F",
      "include_colab_link": true
    },
    "kernelspec": {
      "name": "python3",
      "display_name": "Python 3"
    },
    "language_info": {
      "name": "python"
    },
    "gpuClass": "standard",
    "accelerator": "GPU"
  },
  "cells": [
    {
      "cell_type": "markdown",
      "metadata": {
        "id": "view-in-github",
        "colab_type": "text"
      },
      "source": [
        "<a href=\"https://colab.research.google.com/github/dlwogns/ML-DL/blob/main/Digit%20Recognizer/Digit_Recognizer(0_989).ipynb\" target=\"_parent\"><img src=\"https://colab.research.google.com/assets/colab-badge.svg\" alt=\"Open In Colab\"/></a>"
      ]
    },
    {
      "cell_type": "code",
      "execution_count": 33,
      "metadata": {
        "id": "Tkk3v61viL8e"
      },
      "outputs": [],
      "source": [
        "import tensorflow as tf\n",
        "import numpy as np\n",
        "import pandas as pd\n",
        "import random\n",
        "import matplotlib.pyplot as plt\n",
        "from sklearn.model_selection import train_test_split\n",
        "from tensorflow.keras.layers import Conv2D, MaxPooling2D, Flatten, Dense, Dropout"
      ]
    },
    {
      "cell_type": "code",
      "source": [
        "train = pd.read_csv(\"/content/drive/MyDrive/Colab Notebooks/data/digit-recognizer/train.csv\")\n",
        "test = pd.read_csv(\"/content/drive/MyDrive/Colab Notebooks/data/digit-recognizer/test.csv\")"
      ],
      "metadata": {
        "id": "oCOCfobni2j2"
      },
      "execution_count": 34,
      "outputs": []
    },
    {
      "cell_type": "code",
      "source": [
        "y_train = train[\"label\"]\n",
        "X_train = train.drop(labels=[\"label\"], axis=1)"
      ],
      "metadata": {
        "id": "X5JHdFMckMLZ"
      },
      "execution_count": 35,
      "outputs": []
    },
    {
      "cell_type": "code",
      "source": [
        "X_train = X_train/255.0\n",
        "test = test/255.0"
      ],
      "metadata": {
        "id": "u79mRAY_knpR"
      },
      "execution_count": 36,
      "outputs": []
    },
    {
      "cell_type": "code",
      "source": [
        "X_train = X_train.values.reshape(-1,28,28,1)\n",
        "test = test.values.reshape(-1, 28,28,1)\n",
        "# reshape에 -1이 들어가면 \"원래 배열의 길이와 남은 차원으로 부터 추정\"의 의미로, auto랑 비슷하게 쓰면 되는거 같음.\n",
        "# 28 * 28 * 1의 3차원으로 만드는 이유는 CNN의 구조 때문."
      ],
      "metadata": {
        "id": "XVNHAFPglJdN"
      },
      "execution_count": 37,
      "outputs": []
    },
    {
      "cell_type": "code",
      "source": [
        "# Label Encoding\n",
        "y_train = tf.keras.utils.to_categorical(y_train, num_classes=10)"
      ],
      "metadata": {
        "id": "mlrdZtzLmyQ3"
      },
      "execution_count": 38,
      "outputs": []
    },
    {
      "cell_type": "code",
      "source": [
        "# split training and validiation set\n",
        "X_train, X_val, Y_train , Y_val = train_test_split(X_train, y_train, test_size = 0.1)"
      ],
      "metadata": {
        "id": "KrzYctpioCba"
      },
      "execution_count": 39,
      "outputs": []
    },
    {
      "cell_type": "code",
      "source": [
        "plt.imshow(X_train[0][:,:,0])"
      ],
      "metadata": {
        "colab": {
          "base_uri": "https://localhost:8080/",
          "height": 284
        },
        "id": "x7De9prCpc-m",
        "outputId": "025182f5-f687-4080-8607-5a7449b9b182"
      },
      "execution_count": 40,
      "outputs": [
        {
          "output_type": "execute_result",
          "data": {
            "text/plain": [
              "<matplotlib.image.AxesImage at 0x7fcdc067eaf0>"
            ]
          },
          "metadata": {},
          "execution_count": 40
        },
        {
          "output_type": "display_data",
          "data": {
            "text/plain": [
              "<Figure size 432x288 with 1 Axes>"
            ],
            "image/png": "[encoded data removed]"
          },
          "metadata": {
            "needs_background": "light"
          }
        }
      ]
    },
    {
      "cell_type": "code",
      "source": [
        "learning_rate = 0.001\n",
        "training_epochs = 40\n",
        "batch_size = 128"
      ],
      "metadata": {
        "id": "-ioGgA3Wp1Ij"
      },
      "execution_count": 41,
      "outputs": []
    },
    {
      "cell_type": "code",
      "source": [
        "tf.model = tf.keras.Sequential()"
      ],
      "metadata": {
        "id": "YGosluOZqGwh"
      },
      "execution_count": 42,
      "outputs": []
    },
    {
      "cell_type": "code",
      "source": [
        "#layer 1\n",
        "tf.model.add(Conv2D(filters=16, kernel_size = (3,3), input_shape=(28,28,1), activation='relu'))\n",
        "tf.model.add(MaxPooling2D(pool_size=(2,2)))\n",
        "tf.model.add(Dropout(0.3))"
      ],
      "metadata": {
        "id": "c0R9PxGhqIhG"
      },
      "execution_count": 43,
      "outputs": []
    },
    {
      "cell_type": "code",
      "source": [
        "#layer 2\n",
        "tf.model.add(Conv2D(filters = 32, kernel_size = (3,3), activation = 'relu'))\n",
        "tf.model.add(MaxPooling2D(pool_size=(2,2)))\n",
        "tf.model.add(Dropout(0.3))"
      ],
      "metadata": {
        "id": "2yo-UV_Hqn8M"
      },
      "execution_count": 44,
      "outputs": []
    },
    {
      "cell_type": "code",
      "source": [
        "#layer 3\n",
        "tf.model.add(Flatten())\n",
        "tf.model.add(Dense(units=10, kernel_initializer='glorot_normal', activation='softmax'))"
      ],
      "metadata": {
        "id": "JT7LG_t4q-Ro"
      },
      "execution_count": 45,
      "outputs": []
    },
    {
      "cell_type": "code",
      "source": [
        "tf.model.compile(loss = 'categorical_crossentropy', optimizer = tf.keras.optimizers.Adam(lr = learning_rate), metrics=['accuracy'])"
      ],
      "metadata": {
        "colab": {
          "base_uri": "https://localhost:8080/"
        },
        "id": "E5IFde98rIYx",
        "outputId": "99c9d3b8-b527-43c8-8774-1c341d553656"
      },
      "execution_count": 46,
      "outputs": [
        {
          "output_type": "stream",
          "name": "stderr",
          "text": [
            "/usr/local/lib/python3.8/dist-packages/keras/optimizers/optimizer_v2/adam.py:110: UserWarning: The `lr` argument is deprecated, use `learning_rate` instead.\n",
            "  super(Adam, self).__init__(name, **kwargs)\n"
          ]
        }
      ]
    },
    {
      "cell_type": "code",
      "source": [
        "tf.model.summary()"
      ],
      "metadata": {
        "colab": {
          "base_uri": "https://localhost:8080/"
        },
        "id": "B3vKIkBorUXL",
        "outputId": "245a54b1-335e-46d6-8e7d-be7545d2bd05"
      },
      "execution_count": 47,
      "outputs": [
        {
          "output_type": "stream",
          "name": "stdout",
          "text": [
            "Model: \"sequential_2\"\n",
            "_________________________________________________________________\n",
            " Layer (type)                Output Shape              Param #   \n",
            "=================================================================\n",
            " conv2d_4 (Conv2D)           (None, 26, 26, 16)        160       \n",
            "                                                                 \n",
            " max_pooling2d_4 (MaxPooling  (None, 13, 13, 16)       0         \n",
            " 2D)                                                             \n",
            "                                                                 \n",
            " dropout_4 (Dropout)         (None, 13, 13, 16)        0         \n",
            "                                                                 \n",
            " conv2d_5 (Conv2D)           (None, 11, 11, 32)        4640      \n",
            "                                                                 \n",
            " max_pooling2d_5 (MaxPooling  (None, 5, 5, 32)         0         \n",
            " 2D)                                                             \n",
            "                                                                 \n",
            " dropout_5 (Dropout)         (None, 5, 5, 32)          0         \n",
            "                                                                 \n",
            " flatten_2 (Flatten)         (None, 800)               0         \n",
            "                                                                 \n",
            " dense_2 (Dense)             (None, 10)                8010      \n",
            "                                                                 \n",
            "=================================================================\n",
            "Total params: 12,810\n",
            "Trainable params: 12,810\n",
            "Non-trainable params: 0\n",
            "_________________________________________________________________\n"
          ]
        }
      ]
    },
    {
      "cell_type": "code",
      "source": [
        "history = tf.model.fit(X_train, Y_train, batch_size = batch_size, epochs = training_epochs)"
      ],
      "metadata": {
        "colab": {
          "base_uri": "https://localhost:8080/"
        },
        "id": "IxEQA-zfrWF_",
        "outputId": "18465890-1e97-4409-a3ea-e35ef3129cac"
      },
      "execution_count": 48,
      "outputs": [
        {
          "output_type": "stream",
          "name": "stdout",
          "text": [
            "Epoch 1/40\n",
            "296/296 [==============================] - 2s 5ms/step - loss: 0.6116 - accuracy: 0.8100\n",
            "Epoch 2/40\n",
            "296/296 [==============================] - 1s 4ms/step - loss: 0.2055 - accuracy: 0.9372\n",
            "Epoch 3/40\n",
            "296/296 [==============================] - 1s 4ms/step - loss: 0.1573 - accuracy: 0.9519\n",
            "Epoch 4/40\n",
            "296/296 [==============================] - 1s 4ms/step - loss: 0.1297 - accuracy: 0.9609\n",
            "Epoch 5/40\n",
            "296/296 [==============================] - 1s 4ms/step - loss: 0.1103 - accuracy: 0.9661\n",
            "Epoch 6/40\n",
            "296/296 [==============================] - 1s 4ms/step - loss: 0.1009 - accuracy: 0.9677\n",
            "Epoch 7/40\n",
            "296/296 [==============================] - 1s 4ms/step - loss: 0.0925 - accuracy: 0.9709\n",
            "Epoch 8/40\n",
            "296/296 [==============================] - 1s 4ms/step - loss: 0.0864 - accuracy: 0.9733\n",
            "Epoch 9/40\n",
            "296/296 [==============================] - 1s 4ms/step - loss: 0.0810 - accuracy: 0.9752\n",
            "Epoch 10/40\n",
            "296/296 [==============================] - 1s 4ms/step - loss: 0.0741 - accuracy: 0.9763\n",
            "Epoch 11/40\n",
            "296/296 [==============================] - 1s 4ms/step - loss: 0.0710 - accuracy: 0.9773\n",
            "Epoch 12/40\n",
            "296/296 [==============================] - 1s 4ms/step - loss: 0.0661 - accuracy: 0.9793\n",
            "Epoch 13/40\n",
            "296/296 [==============================] - 1s 4ms/step - loss: 0.0632 - accuracy: 0.9809\n",
            "Epoch 14/40\n",
            "296/296 [==============================] - 1s 4ms/step - loss: 0.0613 - accuracy: 0.9802\n",
            "Epoch 15/40\n",
            "296/296 [==============================] - 1s 4ms/step - loss: 0.0588 - accuracy: 0.9813\n",
            "Epoch 16/40\n",
            "296/296 [==============================] - 1s 4ms/step - loss: 0.0581 - accuracy: 0.9817\n",
            "Epoch 17/40\n",
            "296/296 [==============================] - 1s 4ms/step - loss: 0.0564 - accuracy: 0.9819\n",
            "Epoch 18/40\n",
            "296/296 [==============================] - 1s 4ms/step - loss: 0.0524 - accuracy: 0.9835\n",
            "Epoch 19/40\n",
            "296/296 [==============================] - 1s 4ms/step - loss: 0.0514 - accuracy: 0.9830\n",
            "Epoch 20/40\n",
            "296/296 [==============================] - 1s 4ms/step - loss: 0.0506 - accuracy: 0.9843\n",
            "Epoch 21/40\n",
            "296/296 [==============================] - 1s 4ms/step - loss: 0.0486 - accuracy: 0.9848\n",
            "Epoch 22/40\n",
            "296/296 [==============================] - 1s 4ms/step - loss: 0.0468 - accuracy: 0.9847\n",
            "Epoch 23/40\n",
            "296/296 [==============================] - 1s 4ms/step - loss: 0.0454 - accuracy: 0.9849\n",
            "Epoch 24/40\n",
            "296/296 [==============================] - 1s 4ms/step - loss: 0.0469 - accuracy: 0.9843\n",
            "Epoch 25/40\n",
            "296/296 [==============================] - 1s 4ms/step - loss: 0.0459 - accuracy: 0.9848\n",
            "Epoch 26/40\n",
            "296/296 [==============================] - 1s 4ms/step - loss: 0.0433 - accuracy: 0.9864\n",
            "Epoch 27/40\n",
            "296/296 [==============================] - 1s 4ms/step - loss: 0.0447 - accuracy: 0.9853\n",
            "Epoch 28/40\n",
            "296/296 [==============================] - 1s 4ms/step - loss: 0.0419 - accuracy: 0.9861\n",
            "Epoch 29/40\n",
            "296/296 [==============================] - 1s 4ms/step - loss: 0.0421 - accuracy: 0.9864\n",
            "Epoch 30/40\n",
            "296/296 [==============================] - 1s 4ms/step - loss: 0.0406 - accuracy: 0.9865\n",
            "Epoch 31/40\n",
            "296/296 [==============================] - 1s 4ms/step - loss: 0.0409 - accuracy: 0.9870\n",
            "Epoch 32/40\n",
            "296/296 [==============================] - 1s 4ms/step - loss: 0.0406 - accuracy: 0.9869\n",
            "Epoch 33/40\n",
            "296/296 [==============================] - 1s 4ms/step - loss: 0.0407 - accuracy: 0.9868\n",
            "Epoch 34/40\n",
            "296/296 [==============================] - 1s 4ms/step - loss: 0.0406 - accuracy: 0.9865\n",
            "Epoch 35/40\n",
            "296/296 [==============================] - 1s 4ms/step - loss: 0.0384 - accuracy: 0.9874\n",
            "Epoch 36/40\n",
            "296/296 [==============================] - 1s 4ms/step - loss: 0.0387 - accuracy: 0.9871\n",
            "Epoch 37/40\n",
            "296/296 [==============================] - 1s 4ms/step - loss: 0.0364 - accuracy: 0.9878\n",
            "Epoch 38/40\n",
            "296/296 [==============================] - 1s 4ms/step - loss: 0.0355 - accuracy: 0.9876\n",
            "Epoch 39/40\n",
            "296/296 [==============================] - 1s 4ms/step - loss: 0.0365 - accuracy: 0.9876\n",
            "Epoch 40/40\n",
            "296/296 [==============================] - 1s 4ms/step - loss: 0.0368 - accuracy: 0.9871\n"
          ]
        }
      ]
    },
    {
      "cell_type": "code",
      "source": [
        "validation = tf.model.evaluate(X_val, Y_val)"
      ],
      "metadata": {
        "colab": {
          "base_uri": "https://localhost:8080/"
        },
        "id": "k_nwvHOwrsjt",
        "outputId": "d7aa7a27-9cd3-4745-8fb3-7cad226e3b83"
      },
      "execution_count": 49,
      "outputs": [
        {
          "output_type": "stream",
          "name": "stdout",
          "text": [
            "132/132 [==============================] - 0s 2ms/step - loss: 0.0479 - accuracy: 0.9879\n"
          ]
        }
      ]
    },
    {
      "cell_type": "code",
      "source": [
        "result = tf.model.predict(test)"
      ],
      "metadata": {
        "colab": {
          "base_uri": "https://localhost:8080/"
        },
        "id": "ImUVq76LtpEC",
        "outputId": "0c7e5656-f535-4c73-a93f-cb134c9357a7"
      },
      "execution_count": 50,
      "outputs": [
        {
          "output_type": "stream",
          "name": "stdout",
          "text": [
            "875/875 [==============================] - 1s 2ms/step\n"
          ]
        }
      ]
    },
    {
      "cell_type": "code",
      "source": [
        "results = np.argmax(result, axis=1)"
      ],
      "metadata": {
        "id": "kpNUdQu1txEM"
      },
      "execution_count": 51,
      "outputs": []
    },
    {
      "cell_type": "code",
      "source": [
        "results = pd.Series(results, name=\"Label\")"
      ],
      "metadata": {
        "id": "h5aKs9i3t0kj"
      },
      "execution_count": 52,
      "outputs": []
    },
    {
      "cell_type": "code",
      "source": [
        "submission = pd.concat([pd.Series(range(1,28001),name = \"ImageId\"),results],axis = 1)\n",
        "\n",
        "submission.to_csv(\"cnn_mnist_datagen.csv\",index=False)"
      ],
      "metadata": {
        "id": "kl4887i2t6aH"
      },
      "execution_count": 53,
      "outputs": []
    }
  ]
}