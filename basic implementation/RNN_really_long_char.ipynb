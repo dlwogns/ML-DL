{
  "nbformat": 4,
  "nbformat_minor": 0,
  "metadata": {
    "colab": {
      "provenance": [],
      "authorship_tag": "ABX9TyNrryZmwOELScNZBMauGVGB",
      "include_colab_link": true
    },
    "kernelspec": {
      "name": "python3",
      "display_name": "Python 3"
    },
    "language_info": {
      "name": "python"
    }
  },
  "cells": [
    {
      "cell_type": "markdown",
      "metadata": {
        "id": "view-in-github",
        "colab_type": "text"
      },
      "source": [
        "<a href=\"https://colab.research.google.com/github/dlwogns/ML-DL/blob/main/basic%20implementation/RNN_really_long_char.ipynb\" target=\"_parent\"><img src=\"https://colab.research.google.com/assets/colab-badge.svg\" alt=\"Open In Colab\"/></a>"
      ]
    },
    {
      "cell_type": "code",
      "execution_count": 1,
      "metadata": {
        "id": "boJI_LbmOThj"
      },
      "outputs": [],
      "source": [
        "import tensorflow as tf\n",
        "import numpy as np"
      ]
    },
    {
      "cell_type": "code",
      "source": [
        "sentence = (\"if you want to build a ship, don't drum up people together to \"\n",
        "            \"collect wood and don't assign them tasks and work, but rather \"\n",
        "            \"teach them to long for the endless immensity of the sea.\")"
      ],
      "metadata": {
        "id": "KygS5XzROYbA"
      },
      "execution_count": 3,
      "outputs": []
    },
    {
      "cell_type": "code",
      "source": [
        "char_set = list(set(sentence))\n",
        "char_dic = {w : i for i, w in enumerate(char_set)}"
      ],
      "metadata": {
        "id": "FXzPvrVGOd_v"
      },
      "execution_count": 4,
      "outputs": []
    },
    {
      "cell_type": "code",
      "source": [
        "#hyper parameter\n",
        "data_dim = len(char_set)\n",
        "hidden_size = len(char_set)\n",
        "num_classes = len(char_set)\n",
        "sequence_length = 10 # 임의의 숫자를 넣는다.\n",
        "learning_rate = 0.1"
      ],
      "metadata": {
        "id": "J9KRYEtAOp53"
      },
      "execution_count": 5,
      "outputs": []
    },
    {
      "cell_type": "code",
      "source": [
        "dataX = []\n",
        "dataY = []\n",
        "for i in range(0, len(sentence) - sequence_length):\n",
        "  x_str = sentence[i : i+sequence_length]\n",
        "  y_str = sentence[i+1 : i+sequence_length + 1]\n",
        "  # 문장을 분할하여\n",
        "  # 1. if you wan -> f you want\n",
        "  # 2. f you want -> you want t\n",
        "  # 이런식으로 순서대로 예측하게 데이터셋을 구축한다.\n",
        "  print(i, x_str, '->', y_str)\n",
        "  x = [char_dic[c] for c in x_str]\n",
        "  y = [char_dic[c] for c in y_str]\n",
        "\n",
        "  dataX.append(x)\n",
        "  dataY.append(y)\n",
        "\n",
        "batch_size = len(dataX)"
      ],
      "metadata": {
        "colab": {
          "base_uri": "https://localhost:8080/"
        },
        "id": "h6yitG7EO3BV",
        "outputId": "529104bd-7489-46e4-ba26-392cd582c06b"
      },
      "execution_count": 6,
      "outputs": [
        {
          "output_type": "stream",
          "name": "stdout",
          "text": [
            "0 if you wan -> f you want\n",
            "1 f you want ->  you want \n",
            "2  you want  -> you want t\n",
            "3 you want t -> ou want to\n",
            "4 ou want to -> u want to \n",
            "5 u want to  ->  want to b\n",
            "6  want to b -> want to bu\n",
            "7 want to bu -> ant to bui\n",
            "8 ant to bui -> nt to buil\n",
            "9 nt to buil -> t to build\n",
            "10 t to build ->  to build \n",
            "11  to build  -> to build a\n",
            "12 to build a -> o build a \n",
            "13 o build a  ->  build a s\n",
            "14  build a s -> build a sh\n",
            "15 build a sh -> uild a shi\n",
            "16 uild a shi -> ild a ship\n",
            "17 ild a ship -> ld a ship,\n",
            "18 ld a ship, -> d a ship, \n",
            "19 d a ship,  ->  a ship, d\n",
            "20  a ship, d -> a ship, do\n",
            "21 a ship, do ->  ship, don\n",
            "22  ship, don -> ship, don'\n",
            "23 ship, don' -> hip, don't\n",
            "24 hip, don't -> ip, don't \n",
            "25 ip, don't  -> p, don't d\n",
            "26 p, don't d -> , don't dr\n",
            "27 , don't dr ->  don't dru\n",
            "28  don't dru -> don't drum\n",
            "29 don't drum -> on't drum \n",
            "30 on't drum  -> n't drum u\n",
            "31 n't drum u -> 't drum up\n",
            "32 't drum up -> t drum up \n",
            "33 t drum up  ->  drum up p\n",
            "34  drum up p -> drum up pe\n",
            "35 drum up pe -> rum up peo\n",
            "36 rum up peo -> um up peop\n",
            "37 um up peop -> m up peopl\n",
            "38 m up peopl ->  up people\n",
            "39  up people -> up people \n",
            "40 up people  -> p people t\n",
            "41 p people t ->  people to\n",
            "42  people to -> people tog\n",
            "43 people tog -> eople toge\n",
            "44 eople toge -> ople toget\n",
            "45 ople toget -> ple togeth\n",
            "46 ple togeth -> le togethe\n",
            "47 le togethe -> e together\n",
            "48 e together ->  together \n",
            "49  together  -> together t\n",
            "50 together t -> ogether to\n",
            "51 ogether to -> gether to \n",
            "52 gether to  -> ether to c\n",
            "53 ether to c -> ther to co\n",
            "54 ther to co -> her to col\n",
            "55 her to col -> er to coll\n",
            "56 er to coll -> r to colle\n",
            "57 r to colle ->  to collec\n",
            "58  to collec -> to collect\n",
            "59 to collect -> o collect \n",
            "60 o collect  ->  collect w\n",
            "61  collect w -> collect wo\n",
            "62 collect wo -> ollect woo\n",
            "63 ollect woo -> llect wood\n",
            "64 llect wood -> lect wood \n",
            "65 lect wood  -> ect wood a\n",
            "66 ect wood a -> ct wood an\n",
            "67 ct wood an -> t wood and\n",
            "68 t wood and ->  wood and \n",
            "69  wood and  -> wood and d\n",
            "70 wood and d -> ood and do\n",
            "71 ood and do -> od and don\n",
            "72 od and don -> d and don'\n",
            "73 d and don' ->  and don't\n",
            "74  and don't -> and don't \n",
            "75 and don't  -> nd don't a\n",
            "76 nd don't a -> d don't as\n",
            "77 d don't as ->  don't ass\n",
            "78  don't ass -> don't assi\n",
            "79 don't assi -> on't assig\n",
            "80 on't assig -> n't assign\n",
            "81 n't assign -> 't assign \n",
            "82 't assign  -> t assign t\n",
            "83 t assign t ->  assign th\n",
            "84  assign th -> assign the\n",
            "85 assign the -> ssign them\n",
            "86 ssign them -> sign them \n",
            "87 sign them  -> ign them t\n",
            "88 ign them t -> gn them ta\n",
            "89 gn them ta -> n them tas\n",
            "90 n them tas ->  them task\n",
            "91  them task -> them tasks\n",
            "92 them tasks -> hem tasks \n",
            "93 hem tasks  -> em tasks a\n",
            "94 em tasks a -> m tasks an\n",
            "95 m tasks an ->  tasks and\n",
            "96  tasks and -> tasks and \n",
            "97 tasks and  -> asks and w\n",
            "98 asks and w -> sks and wo\n",
            "99 sks and wo -> ks and wor\n",
            "100 ks and wor -> s and work\n",
            "101 s and work ->  and work,\n",
            "102  and work, -> and work, \n",
            "103 and work,  -> nd work, b\n",
            "104 nd work, b -> d work, bu\n",
            "105 d work, bu ->  work, but\n",
            "106  work, but -> work, but \n",
            "107 work, but  -> ork, but r\n",
            "108 ork, but r -> rk, but ra\n",
            "109 rk, but ra -> k, but rat\n",
            "110 k, but rat -> , but rath\n",
            "111 , but rath ->  but rathe\n",
            "112  but rathe -> but rather\n",
            "113 but rather -> ut rather \n",
            "114 ut rather  -> t rather t\n",
            "115 t rather t ->  rather te\n",
            "116  rather te -> rather tea\n",
            "117 rather tea -> ather teac\n",
            "118 ather teac -> ther teach\n",
            "119 ther teach -> her teach \n",
            "120 her teach  -> er teach t\n",
            "121 er teach t -> r teach th\n",
            "122 r teach th ->  teach the\n",
            "123  teach the -> teach them\n",
            "124 teach them -> each them \n",
            "125 each them  -> ach them t\n",
            "126 ach them t -> ch them to\n",
            "127 ch them to -> h them to \n",
            "128 h them to  ->  them to l\n",
            "129  them to l -> them to lo\n",
            "130 them to lo -> hem to lon\n",
            "131 hem to lon -> em to long\n",
            "132 em to long -> m to long \n",
            "133 m to long  ->  to long f\n",
            "134  to long f -> to long fo\n",
            "135 to long fo -> o long for\n",
            "136 o long for ->  long for \n",
            "137  long for  -> long for t\n",
            "138 long for t -> ong for th\n",
            "139 ong for th -> ng for the\n",
            "140 ng for the -> g for the \n",
            "141 g for the  ->  for the e\n",
            "142  for the e -> for the en\n",
            "143 for the en -> or the end\n",
            "144 or the end -> r the endl\n",
            "145 r the endl ->  the endle\n",
            "146  the endle -> the endles\n",
            "147 the endles -> he endless\n",
            "148 he endless -> e endless \n",
            "149 e endless  ->  endless i\n",
            "150  endless i -> endless im\n",
            "151 endless im -> ndless imm\n",
            "152 ndless imm -> dless imme\n",
            "153 dless imme -> less immen\n",
            "154 less immen -> ess immens\n",
            "155 ess immens -> ss immensi\n",
            "156 ss immensi -> s immensit\n",
            "157 s immensit ->  immensity\n",
            "158  immensity -> immensity \n",
            "159 immensity  -> mmensity o\n",
            "160 mmensity o -> mensity of\n",
            "161 mensity of -> ensity of \n",
            "162 ensity of  -> nsity of t\n",
            "163 nsity of t -> sity of th\n",
            "164 sity of th -> ity of the\n",
            "165 ity of the -> ty of the \n",
            "166 ty of the  -> y of the s\n",
            "167 y of the s ->  of the se\n",
            "168  of the se -> of the sea\n",
            "169 of the sea -> f the sea.\n"
          ]
        }
      ]
    },
    {
      "cell_type": "code",
      "source": [
        "X_one_hot = tf.one_hot(dataX, num_classes)\n",
        "Y_one_hot = tf.one_hot(dataY, num_classes)"
      ],
      "metadata": {
        "id": "72rnymxvPrzf"
      },
      "execution_count": 7,
      "outputs": []
    },
    {
      "cell_type": "code",
      "source": [
        "X_one_hot.shape\n",
        "# 170개의 배치, 10개의 sequence, 25개의 one hot size"
      ],
      "metadata": {
        "colab": {
          "base_uri": "https://localhost:8080/"
        },
        "id": "4Sb0hyQaP5KS",
        "outputId": "8d24cc2c-dc2b-4e1a-def2-89cc3ea1efb8"
      },
      "execution_count": 10,
      "outputs": [
        {
          "output_type": "execute_result",
          "data": {
            "text/plain": [
              "TensorShape([170, 10, 25])"
            ]
          },
          "metadata": {},
          "execution_count": 10
        }
      ]
    },
    {
      "cell_type": "code",
      "source": [
        "tf.model = tf.keras.Sequential()"
      ],
      "metadata": {
        "id": "G5L_Q5JvP6sz"
      },
      "execution_count": 18,
      "outputs": []
    },
    {
      "cell_type": "code",
      "source": [
        "tf.model.add(tf.keras.layers.LSTM(units = num_classes, input_shape=(sequence_length, num_classes), return_sequences=True))\n",
        "#tf.model.add(tf.keras.layers.LSTM(units=num_classes, return_sequences = True))\n",
        "tf.model.add(tf.keras.layers.TimeDistributed(tf.keras.layers.Dense(units=num_classes, activation='softmax')))"
      ],
      "metadata": {
        "id": "XmpSSNxrQTFf"
      },
      "execution_count": 19,
      "outputs": []
    },
    {
      "cell_type": "code",
      "source": [
        "tf.model.summary()"
      ],
      "metadata": {
        "colab": {
          "base_uri": "https://localhost:8080/"
        },
        "id": "KJVR3hK7QtwA",
        "outputId": "03820096-19df-46bc-c4c8-f4d6a5447d52"
      },
      "execution_count": 20,
      "outputs": [
        {
          "output_type": "stream",
          "name": "stdout",
          "text": [
            "Model: \"sequential_1\"\n",
            "_________________________________________________________________\n",
            " Layer (type)                Output Shape              Param #   \n",
            "=================================================================\n",
            " lstm_1 (LSTM)               (None, 10, 25)            5100      \n",
            "                                                                 \n",
            " time_distributed (TimeDistr  (None, 10, 25)           650       \n",
            " ibuted)                                                         \n",
            "                                                                 \n",
            "=================================================================\n",
            "Total params: 5,750\n",
            "Trainable params: 5,750\n",
            "Non-trainable params: 0\n",
            "_________________________________________________________________\n"
          ]
        }
      ]
    },
    {
      "cell_type": "code",
      "source": [
        "tf.model.compile(loss = 'categorical_crossentropy', optimizer = tf.keras.optimizers.Adam(lr = 0.1), metrics=['accuracy'])"
      ],
      "metadata": {
        "colab": {
          "base_uri": "https://localhost:8080/"
        },
        "id": "DMK-QXGwQxVm",
        "outputId": "21a30092-f688-4943-dd3e-25ddd490332d"
      },
      "execution_count": 21,
      "outputs": [
        {
          "output_type": "stream",
          "name": "stderr",
          "text": [
            "/usr/local/lib/python3.8/dist-packages/keras/optimizers/optimizer_v2/adam.py:110: UserWarning: The `lr` argument is deprecated, use `learning_rate` instead.\n",
            "  super(Adam, self).__init__(name, **kwargs)\n"
          ]
        }
      ]
    },
    {
      "cell_type": "code",
      "source": [
        "tf.model.fit(X_one_hot, Y_one_hot, epochs = 100)"
      ],
      "metadata": {
        "colab": {
          "base_uri": "https://localhost:8080/"
        },
        "id": "YtpK4oPyQ-zG",
        "outputId": "8cc921af-5fdb-4dcd-95f1-fab8428efcc9"
      },
      "execution_count": 22,
      "outputs": [
        {
          "output_type": "stream",
          "name": "stdout",
          "text": [
            "Epoch 1/100\n",
            "6/6 [==============================] - 2s 8ms/step - loss: 2.9545 - accuracy: 0.1588\n",
            "Epoch 2/100\n",
            "6/6 [==============================] - 0s 6ms/step - loss: 2.3622 - accuracy: 0.3141\n",
            "Epoch 3/100\n",
            "6/6 [==============================] - 0s 7ms/step - loss: 1.6031 - accuracy: 0.4888\n",
            "Epoch 4/100\n",
            "6/6 [==============================] - 0s 7ms/step - loss: 1.1036 - accuracy: 0.6600\n",
            "Epoch 5/100\n",
            "6/6 [==============================] - 0s 7ms/step - loss: 0.7635 - accuracy: 0.7782\n",
            "Epoch 6/100\n",
            "6/6 [==============================] - 0s 9ms/step - loss: 0.5638 - accuracy: 0.8288\n",
            "Epoch 7/100\n",
            "6/6 [==============================] - 0s 8ms/step - loss: 0.4651 - accuracy: 0.8518\n",
            "Epoch 8/100\n",
            "6/6 [==============================] - 0s 7ms/step - loss: 0.4052 - accuracy: 0.8641\n",
            "Epoch 9/100\n",
            "6/6 [==============================] - 0s 7ms/step - loss: 0.3583 - accuracy: 0.8694\n",
            "Epoch 10/100\n",
            "6/6 [==============================] - 0s 7ms/step - loss: 0.3393 - accuracy: 0.8765\n",
            "Epoch 11/100\n",
            "6/6 [==============================] - 0s 8ms/step - loss: 0.3227 - accuracy: 0.8794\n",
            "Epoch 12/100\n",
            "6/6 [==============================] - 0s 6ms/step - loss: 0.3135 - accuracy: 0.8882\n",
            "Epoch 13/100\n",
            "6/6 [==============================] - 0s 9ms/step - loss: 0.3113 - accuracy: 0.8788\n",
            "Epoch 14/100\n",
            "6/6 [==============================] - 0s 7ms/step - loss: 0.3094 - accuracy: 0.8818\n",
            "Epoch 15/100\n",
            "6/6 [==============================] - 0s 6ms/step - loss: 0.3114 - accuracy: 0.8782\n",
            "Epoch 16/100\n",
            "6/6 [==============================] - 0s 6ms/step - loss: 0.3037 - accuracy: 0.8835\n",
            "Epoch 17/100\n",
            "6/6 [==============================] - 0s 7ms/step - loss: 0.2990 - accuracy: 0.8800\n",
            "Epoch 18/100\n",
            "6/6 [==============================] - 0s 9ms/step - loss: 0.2850 - accuracy: 0.8900\n",
            "Epoch 19/100\n",
            "6/6 [==============================] - 0s 9ms/step - loss: 0.2824 - accuracy: 0.8865\n",
            "Epoch 20/100\n",
            "6/6 [==============================] - 0s 8ms/step - loss: 0.2771 - accuracy: 0.8924\n",
            "Epoch 21/100\n",
            "6/6 [==============================] - 0s 8ms/step - loss: 0.2771 - accuracy: 0.8894\n",
            "Epoch 22/100\n",
            "6/6 [==============================] - 0s 8ms/step - loss: 0.2745 - accuracy: 0.8894\n",
            "Epoch 23/100\n",
            "6/6 [==============================] - 0s 7ms/step - loss: 0.2799 - accuracy: 0.8835\n",
            "Epoch 24/100\n",
            "6/6 [==============================] - 0s 7ms/step - loss: 0.2784 - accuracy: 0.8900\n",
            "Epoch 25/100\n",
            "6/6 [==============================] - 0s 6ms/step - loss: 0.2878 - accuracy: 0.8853\n",
            "Epoch 26/100\n",
            "6/6 [==============================] - 0s 6ms/step - loss: 0.2729 - accuracy: 0.8871\n",
            "Epoch 27/100\n",
            "6/6 [==============================] - 0s 7ms/step - loss: 0.2730 - accuracy: 0.8865\n",
            "Epoch 28/100\n",
            "6/6 [==============================] - 0s 7ms/step - loss: 0.2727 - accuracy: 0.8900\n",
            "Epoch 29/100\n",
            "6/6 [==============================] - 0s 6ms/step - loss: 0.2669 - accuracy: 0.8882\n",
            "Epoch 30/100\n",
            "6/6 [==============================] - 0s 7ms/step - loss: 0.2707 - accuracy: 0.8865\n",
            "Epoch 31/100\n",
            "6/6 [==============================] - 0s 6ms/step - loss: 0.2587 - accuracy: 0.8912\n",
            "Epoch 32/100\n",
            "6/6 [==============================] - 0s 7ms/step - loss: 0.2622 - accuracy: 0.8871\n",
            "Epoch 33/100\n",
            "6/6 [==============================] - 0s 7ms/step - loss: 0.2630 - accuracy: 0.8876\n",
            "Epoch 34/100\n",
            "6/6 [==============================] - 0s 6ms/step - loss: 0.2595 - accuracy: 0.8888\n",
            "Epoch 35/100\n",
            "6/6 [==============================] - 0s 7ms/step - loss: 0.2651 - accuracy: 0.8853\n",
            "Epoch 36/100\n",
            "6/6 [==============================] - 0s 7ms/step - loss: 0.2585 - accuracy: 0.8924\n",
            "Epoch 37/100\n",
            "6/6 [==============================] - 0s 7ms/step - loss: 0.2626 - accuracy: 0.8876\n",
            "Epoch 38/100\n",
            "6/6 [==============================] - 0s 7ms/step - loss: 0.2587 - accuracy: 0.8906\n",
            "Epoch 39/100\n",
            "6/6 [==============================] - 0s 8ms/step - loss: 0.2590 - accuracy: 0.8871\n",
            "Epoch 40/100\n",
            "6/6 [==============================] - 0s 9ms/step - loss: 0.2636 - accuracy: 0.8900\n",
            "Epoch 41/100\n",
            "6/6 [==============================] - 0s 7ms/step - loss: 0.2567 - accuracy: 0.8882\n",
            "Epoch 42/100\n",
            "6/6 [==============================] - 0s 7ms/step - loss: 0.2558 - accuracy: 0.8918\n",
            "Epoch 43/100\n",
            "6/6 [==============================] - 0s 7ms/step - loss: 0.2561 - accuracy: 0.8888\n",
            "Epoch 44/100\n",
            "6/6 [==============================] - 0s 7ms/step - loss: 0.2581 - accuracy: 0.8865\n",
            "Epoch 45/100\n",
            "6/6 [==============================] - 0s 7ms/step - loss: 0.2582 - accuracy: 0.8906\n",
            "Epoch 46/100\n",
            "6/6 [==============================] - 0s 7ms/step - loss: 0.2574 - accuracy: 0.8829\n",
            "Epoch 47/100\n",
            "6/6 [==============================] - 0s 10ms/step - loss: 0.2604 - accuracy: 0.8853\n",
            "Epoch 48/100\n",
            "6/6 [==============================] - 0s 6ms/step - loss: 0.2556 - accuracy: 0.8894\n",
            "Epoch 49/100\n",
            "6/6 [==============================] - 0s 7ms/step - loss: 0.2585 - accuracy: 0.8900\n",
            "Epoch 50/100\n",
            "6/6 [==============================] - 0s 6ms/step - loss: 0.2551 - accuracy: 0.8859\n",
            "Epoch 51/100\n",
            "6/6 [==============================] - 0s 6ms/step - loss: 0.2539 - accuracy: 0.8906\n",
            "Epoch 52/100\n",
            "6/6 [==============================] - 0s 8ms/step - loss: 0.2540 - accuracy: 0.8906\n",
            "Epoch 53/100\n",
            "6/6 [==============================] - 0s 6ms/step - loss: 0.2556 - accuracy: 0.8900\n",
            "Epoch 54/100\n",
            "6/6 [==============================] - 0s 6ms/step - loss: 0.2564 - accuracy: 0.8865\n",
            "Epoch 55/100\n",
            "6/6 [==============================] - 0s 6ms/step - loss: 0.2539 - accuracy: 0.8871\n",
            "Epoch 56/100\n",
            "6/6 [==============================] - 0s 7ms/step - loss: 0.2542 - accuracy: 0.8806\n",
            "Epoch 57/100\n",
            "6/6 [==============================] - 0s 7ms/step - loss: 0.2581 - accuracy: 0.8876\n",
            "Epoch 58/100\n",
            "6/6 [==============================] - 0s 8ms/step - loss: 0.2518 - accuracy: 0.8894\n",
            "Epoch 59/100\n",
            "6/6 [==============================] - 0s 9ms/step - loss: 0.2655 - accuracy: 0.8882\n",
            "Epoch 60/100\n",
            "6/6 [==============================] - 0s 8ms/step - loss: 0.2533 - accuracy: 0.8882\n",
            "Epoch 61/100\n",
            "6/6 [==============================] - 0s 7ms/step - loss: 0.2560 - accuracy: 0.8906\n",
            "Epoch 62/100\n",
            "6/6 [==============================] - 0s 7ms/step - loss: 0.2540 - accuracy: 0.8882\n",
            "Epoch 63/100\n",
            "6/6 [==============================] - 0s 8ms/step - loss: 0.2570 - accuracy: 0.8894\n",
            "Epoch 64/100\n",
            "6/6 [==============================] - 0s 7ms/step - loss: 0.2555 - accuracy: 0.8912\n",
            "Epoch 65/100\n",
            "6/6 [==============================] - 0s 7ms/step - loss: 0.2515 - accuracy: 0.8906\n",
            "Epoch 66/100\n",
            "6/6 [==============================] - 0s 8ms/step - loss: 0.2535 - accuracy: 0.8924\n",
            "Epoch 67/100\n",
            "6/6 [==============================] - 0s 7ms/step - loss: 0.2486 - accuracy: 0.8935\n",
            "Epoch 68/100\n",
            "6/6 [==============================] - 0s 6ms/step - loss: 0.2543 - accuracy: 0.8894\n",
            "Epoch 69/100\n",
            "6/6 [==============================] - 0s 9ms/step - loss: 0.2535 - accuracy: 0.8871\n",
            "Epoch 70/100\n",
            "6/6 [==============================] - 0s 7ms/step - loss: 0.2495 - accuracy: 0.8859\n",
            "Epoch 71/100\n",
            "6/6 [==============================] - 0s 8ms/step - loss: 0.2556 - accuracy: 0.8871\n",
            "Epoch 72/100\n",
            "6/6 [==============================] - 0s 7ms/step - loss: 0.2527 - accuracy: 0.8876\n",
            "Epoch 73/100\n",
            "6/6 [==============================] - 0s 7ms/step - loss: 0.2539 - accuracy: 0.8865\n",
            "Epoch 74/100\n",
            "6/6 [==============================] - 0s 6ms/step - loss: 0.2520 - accuracy: 0.8888\n",
            "Epoch 75/100\n",
            "6/6 [==============================] - 0s 7ms/step - loss: 0.2661 - accuracy: 0.8853\n",
            "Epoch 76/100\n",
            "6/6 [==============================] - 0s 6ms/step - loss: 0.2857 - accuracy: 0.8794\n",
            "Epoch 77/100\n",
            "6/6 [==============================] - 0s 10ms/step - loss: 0.3116 - accuracy: 0.8835\n",
            "Epoch 78/100\n",
            "6/6 [==============================] - 0s 7ms/step - loss: 0.3141 - accuracy: 0.8718\n",
            "Epoch 79/100\n",
            "6/6 [==============================] - 0s 9ms/step - loss: 0.3217 - accuracy: 0.8759\n",
            "Epoch 80/100\n",
            "6/6 [==============================] - 0s 8ms/step - loss: 0.3227 - accuracy: 0.8788\n",
            "Epoch 81/100\n",
            "6/6 [==============================] - 0s 7ms/step - loss: 0.3109 - accuracy: 0.8812\n",
            "Epoch 82/100\n",
            "6/6 [==============================] - 0s 7ms/step - loss: 0.3105 - accuracy: 0.8776\n",
            "Epoch 83/100\n",
            "6/6 [==============================] - 0s 7ms/step - loss: 0.3286 - accuracy: 0.8694\n",
            "Epoch 84/100\n",
            "6/6 [==============================] - 0s 7ms/step - loss: 0.3461 - accuracy: 0.8641\n",
            "Epoch 85/100\n",
            "6/6 [==============================] - 0s 8ms/step - loss: 0.3261 - accuracy: 0.8724\n",
            "Epoch 86/100\n",
            "6/6 [==============================] - 0s 7ms/step - loss: 0.3102 - accuracy: 0.8765\n",
            "Epoch 87/100\n",
            "6/6 [==============================] - 0s 7ms/step - loss: 0.3167 - accuracy: 0.8800\n",
            "Epoch 88/100\n",
            "6/6 [==============================] - 0s 7ms/step - loss: 0.3181 - accuracy: 0.8782\n",
            "Epoch 89/100\n",
            "6/6 [==============================] - 0s 7ms/step - loss: 0.3295 - accuracy: 0.8712\n",
            "Epoch 90/100\n",
            "6/6 [==============================] - 0s 7ms/step - loss: 0.3430 - accuracy: 0.8741\n",
            "Epoch 91/100\n",
            "6/6 [==============================] - 0s 7ms/step - loss: 0.3467 - accuracy: 0.8724\n",
            "Epoch 92/100\n",
            "6/6 [==============================] - 0s 8ms/step - loss: 0.3261 - accuracy: 0.8741\n",
            "Epoch 93/100\n",
            "6/6 [==============================] - 0s 7ms/step - loss: 0.3064 - accuracy: 0.8835\n",
            "Epoch 94/100\n",
            "6/6 [==============================] - 0s 7ms/step - loss: 0.3104 - accuracy: 0.8835\n",
            "Epoch 95/100\n",
            "6/6 [==============================] - 0s 7ms/step - loss: 0.3095 - accuracy: 0.8729\n",
            "Epoch 96/100\n",
            "6/6 [==============================] - 0s 6ms/step - loss: 0.3203 - accuracy: 0.8647\n",
            "Epoch 97/100\n",
            "6/6 [==============================] - 0s 7ms/step - loss: 0.3276 - accuracy: 0.8753\n",
            "Epoch 98/100\n",
            "6/6 [==============================] - 0s 8ms/step - loss: 0.3180 - accuracy: 0.8782\n",
            "Epoch 99/100\n",
            "6/6 [==============================] - 0s 7ms/step - loss: 0.3170 - accuracy: 0.8806\n",
            "Epoch 100/100\n",
            "6/6 [==============================] - 0s 7ms/step - loss: 0.3077 - accuracy: 0.8794\n"
          ]
        },
        {
          "output_type": "execute_result",
          "data": {
            "text/plain": [
              "<keras.callbacks.History at 0x7fea2d8b4f10>"
            ]
          },
          "metadata": {},
          "execution_count": 22
        }
      ]
    },
    {
      "cell_type": "code",
      "source": [
        "results = tf.model.predict(X_one_hot)\n",
        "#results\n",
        "for j, result in enumerate(results):\n",
        "    index = np.argmax(result, axis=1)\n",
        "    if j == 0:  # print all for the first result to make a sentence\n",
        "        print(''.join([char_set[t] for t in index]), end='')\n",
        "    else:\n",
        "        print(char_set[index[-1]], end='')"
      ],
      "metadata": {
        "colab": {
          "base_uri": "https://localhost:8080/"
        },
        "id": "J4hbYjG_RD3x",
        "outputId": "2e0d7523-7f87-426e-bffd-008bf2be4d89"
      },
      "execution_count": 27,
      "outputs": [
        {
          "output_type": "stream",
          "name": "stdout",
          "text": [
            "6/6 [==============================] - 0s 4ms/step\n",
            "t you want to build a ship, don't arum up people together to collect wood and don't assign them tasks and work, but rather teach them to long for the endless immensity of the sea."
          ]
        }
      ]
    },
    {
      "cell_type": "code",
      "source": [],
      "metadata": {
        "id": "Hu3S838mRYqJ"
      },
      "execution_count": null,
      "outputs": []
    }
  ]
}