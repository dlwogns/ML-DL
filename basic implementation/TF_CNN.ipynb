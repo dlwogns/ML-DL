{
  "nbformat": 4,
  "nbformat_minor": 0,
  "metadata": {
    "colab": {
      "provenance": [],
      "authorship_tag": "ABX9TyNZkpnDRUuMvyKV0qqyZIEq",
      "include_colab_link": true
    },
    "kernelspec": {
      "name": "python3",
      "display_name": "Python 3"
    },
    "language_info": {
      "name": "python"
    },
    "accelerator": "GPU",
    "gpuClass": "standard"
  },
  "cells": [
    {
      "cell_type": "markdown",
      "metadata": {
        "id": "view-in-github",
        "colab_type": "text"
      },
      "source": [
        "<a href=\"https://colab.research.google.com/github/dlwogns/ML-DL/blob/main/basic%20implementation/TF_CNN.ipynb\" target=\"_parent\"><img src=\"https://colab.research.google.com/assets/colab-badge.svg\" alt=\"Open In Colab\"/></a>"
      ]
    },
    {
      "cell_type": "code",
      "execution_count": 1,
      "metadata": {
        "id": "z_lCs7p_5Eec"
      },
      "outputs": [],
      "source": [
        "import tensorflow as tf\n",
        "import numpy as np\n",
        "import random\n",
        "import matplotlib.pyplot as plt\n",
        "from tensorflow.keras.layers import Conv2D, MaxPooling2D, Flatten, Dense"
      ]
    },
    {
      "cell_type": "code",
      "source": [
        "mnist = tf.keras.datasets.mnist"
      ],
      "metadata": {
        "id": "V7WUsn8q58k3"
      },
      "execution_count": 2,
      "outputs": []
    },
    {
      "cell_type": "code",
      "source": [
        "(x_train, y_train), (x_test, y_test) = mnist.load_data()"
      ],
      "metadata": {
        "colab": {
          "base_uri": "https://localhost:8080/"
        },
        "id": "RfOwdiuL6Hwo",
        "outputId": "b9d257d5-7e7f-4cb5-b19d-84445a4a5bd9"
      },
      "execution_count": 3,
      "outputs": [
        {
          "output_type": "stream",
          "name": "stdout",
          "text": [
            "Downloading data from https://storage.googleapis.com/tensorflow/tf-keras-datasets/mnist.npz\n",
            "11490434/11490434 [==============================] - 0s 0us/step\n"
          ]
        }
      ]
    },
    {
      "cell_type": "code",
      "source": [
        "x_train = x_train/255\n",
        "x_test = x_test/255\n",
        "y_train = y_train/255\n",
        "y_test = y_test/255"
      ],
      "metadata": {
        "id": "rrEOtLLw8nGl"
      },
      "execution_count": 4,
      "outputs": []
    },
    {
      "cell_type": "code",
      "source": [
        "x_train.shape[0]"
      ],
      "metadata": {
        "colab": {
          "base_uri": "https://localhost:8080/"
        },
        "id": "t7A0sf7o9Kgc",
        "outputId": "f0e3b836-5956-4e99-ea0b-3bd74688f083"
      },
      "execution_count": 5,
      "outputs": [
        {
          "output_type": "execute_result",
          "data": {
            "text/plain": [
              "60000"
            ]
          },
          "metadata": {},
          "execution_count": 5
        }
      ]
    },
    {
      "cell_type": "code",
      "source": [
        "x_train = x_train.reshape(x_train.shape[0], 28, 28 , 1)\n",
        "x_test = x_test.reshape(x_test.shape[0], 28, 28, 1)"
      ],
      "metadata": {
        "id": "ZXeU0_968740"
      },
      "execution_count": 6,
      "outputs": []
    },
    {
      "cell_type": "code",
      "source": [
        "y_train = tf.keras.utils.to_categorical(y_train, 10)\n",
        "y_test = tf.keras.utils.to_categorical(y_test, 10)\n",
        "# one hot encode y data\n",
        "# to_categorical을 이용해  size 10 의 binary class matrix로 바꾸어준다."
      ],
      "metadata": {
        "id": "5IDke5Ez6zbB"
      },
      "execution_count": 7,
      "outputs": []
    },
    {
      "cell_type": "code",
      "source": [
        "print(y_train[0])"
      ],
      "metadata": {
        "colab": {
          "base_uri": "https://localhost:8080/"
        },
        "id": "BeurBl7z65ES",
        "outputId": "5c4e4d6a-4240-4a9e-f95c-9478524e0f07"
      },
      "execution_count": 8,
      "outputs": [
        {
          "output_type": "stream",
          "name": "stdout",
          "text": [
            "[1. 0. 0. 0. 0. 0. 0. 0. 0. 0.]\n"
          ]
        }
      ]
    },
    {
      "cell_type": "code",
      "source": [
        "learning_rate = 0.001\n",
        "training_epochs = 12\n",
        "batch_size = 128"
      ],
      "metadata": {
        "id": "_DJpPj0c9-EY"
      },
      "execution_count": 9,
      "outputs": []
    },
    {
      "cell_type": "code",
      "source": [
        "tf.model = tf.keras.Sequential()"
      ],
      "metadata": {
        "id": "QoadJwCn-WRo"
      },
      "execution_count": 10,
      "outputs": []
    },
    {
      "cell_type": "code",
      "source": [
        "# layer 1\n",
        "tf.model.add(Conv2D(filters = 16, kernel_size = (3,3), input_shape=(28, 28, 1), activation='relu'))\n",
        "tf.model.add(MaxPooling2D(pool_size=(2,2)))"
      ],
      "metadata": {
        "id": "QTTs3dPj-jW4"
      },
      "execution_count": 11,
      "outputs": []
    },
    {
      "cell_type": "code",
      "source": [
        "# layer 2\n",
        "tf.model.add(Conv2D(filters=32, kernel_size=(3,3), activation='relu'))\n",
        "tf.model.add(MaxPooling2D(pool_size=(2,2)))"
      ],
      "metadata": {
        "id": "F4QMx96q_Ned"
      },
      "execution_count": 12,
      "outputs": []
    },
    {
      "cell_type": "code",
      "source": [
        "# layer 3 (fully connected layer)\n",
        "tf.model.add(Flatten())\n",
        "tf.model.add(Dense(units=10, kernel_initializer = 'glorot_normal', activation='softmax'))"
      ],
      "metadata": {
        "id": "QpHrW46Y_Zg8"
      },
      "execution_count": 13,
      "outputs": []
    },
    {
      "cell_type": "code",
      "source": [
        "tf.model.compile(loss='categorical_crossentropy', optimizer = tf.keras.optimizers.Adam(lr=learning_rate), metrics=['accuracy'])"
      ],
      "metadata": {
        "colab": {
          "base_uri": "https://localhost:8080/"
        },
        "id": "AsDUqQV0_yLp",
        "outputId": "63df1e11-ec70-4307-c0bd-db2d6355b5a3"
      },
      "execution_count": 14,
      "outputs": [
        {
          "output_type": "stream",
          "name": "stderr",
          "text": [
            "/usr/local/lib/python3.8/dist-packages/keras/optimizers/optimizer_v2/adam.py:110: UserWarning: The `lr` argument is deprecated, use `learning_rate` instead.\n",
            "  super(Adam, self).__init__(name, **kwargs)\n"
          ]
        }
      ]
    },
    {
      "cell_type": "code",
      "source": [
        "tf.model.summary()"
      ],
      "metadata": {
        "colab": {
          "base_uri": "https://localhost:8080/"
        },
        "id": "Ls6Jcv6S_9Lf",
        "outputId": "423d0b77-e516-42d7-e34f-9310ca8be400"
      },
      "execution_count": 15,
      "outputs": [
        {
          "output_type": "stream",
          "name": "stdout",
          "text": [
            "Model: \"sequential\"\n",
            "_________________________________________________________________\n",
            " Layer (type)                Output Shape              Param #   \n",
            "=================================================================\n",
            " conv2d (Conv2D)             (None, 26, 26, 16)        160       \n",
            "                                                                 \n",
            " max_pooling2d (MaxPooling2D  (None, 13, 13, 16)       0         \n",
            " )                                                               \n",
            "                                                                 \n",
            " conv2d_1 (Conv2D)           (None, 11, 11, 32)        4640      \n",
            "                                                                 \n",
            " max_pooling2d_1 (MaxPooling  (None, 5, 5, 32)         0         \n",
            " 2D)                                                             \n",
            "                                                                 \n",
            " flatten (Flatten)           (None, 800)               0         \n",
            "                                                                 \n",
            " dense (Dense)               (None, 10)                8010      \n",
            "                                                                 \n",
            "=================================================================\n",
            "Total params: 12,810\n",
            "Trainable params: 12,810\n",
            "Non-trainable params: 0\n",
            "_________________________________________________________________\n"
          ]
        }
      ]
    },
    {
      "cell_type": "code",
      "source": [
        "history = tf.model.fit(x_train, y_train, batch_size = batch_size, epochs = training_epochs)"
      ],
      "metadata": {
        "colab": {
          "base_uri": "https://localhost:8080/"
        },
        "id": "j879JYkmABQd",
        "outputId": "cf19847a-8412-4546-ab77-308fb5500e33"
      },
      "execution_count": 16,
      "outputs": [
        {
          "output_type": "stream",
          "name": "stdout",
          "text": [
            "Epoch 1/12\n",
            "469/469 [==============================] - 13s 5ms/step - loss: 0.0542 - accuracy: 0.9911\n",
            "Epoch 2/12\n",
            "469/469 [==============================] - 2s 4ms/step - loss: 1.1156e-06 - accuracy: 1.0000\n",
            "Epoch 3/12\n",
            "469/469 [==============================] - 2s 4ms/step - loss: 2.9655e-07 - accuracy: 1.0000\n",
            "Epoch 4/12\n",
            "469/469 [==============================] - 2s 4ms/step - loss: 1.3460e-07 - accuracy: 1.0000\n",
            "Epoch 5/12\n",
            "469/469 [==============================] - 2s 4ms/step - loss: 7.4567e-08 - accuracy: 1.0000\n",
            "Epoch 6/12\n",
            "469/469 [==============================] - 2s 4ms/step - loss: 4.5730e-08 - accuracy: 1.0000\n",
            "Epoch 7/12\n",
            "469/469 [==============================] - 2s 4ms/step - loss: 2.9866e-08 - accuracy: 1.0000\n",
            "Epoch 8/12\n",
            "469/469 [==============================] - 2s 4ms/step - loss: 2.0466e-08 - accuracy: 1.0000\n",
            "Epoch 9/12\n",
            "469/469 [==============================] - 2s 4ms/step - loss: 1.4414e-08 - accuracy: 1.0000\n",
            "Epoch 10/12\n",
            "469/469 [==============================] - 2s 4ms/step - loss: 1.0409e-08 - accuracy: 1.0000\n",
            "Epoch 11/12\n",
            "469/469 [==============================] - 2s 4ms/step - loss: 7.6651e-09 - accuracy: 1.0000\n",
            "Epoch 12/12\n",
            "469/469 [==============================] - 2s 4ms/step - loss: 5.7459e-09 - accuracy: 1.0000\n"
          ]
        }
      ]
    },
    {
      "cell_type": "code",
      "source": [
        "evaluation = tf.model.evaluate(x_test, y_test)"
      ],
      "metadata": {
        "colab": {
          "base_uri": "https://localhost:8080/"
        },
        "id": "eNA0Vr68AYqe",
        "outputId": "776329dd-0e5a-46aa-dd62-5ff9868deea2"
      },
      "execution_count": 17,
      "outputs": [
        {
          "output_type": "stream",
          "name": "stdout",
          "text": [
            "313/313 [==============================] - 1s 3ms/step - loss: 4.8995e-09 - accuracy: 1.0000\n"
          ]
        }
      ]
    },
    {
      "cell_type": "code",
      "source": [
        "print('loss: ', evaluation[0])"
      ],
      "metadata": {
        "colab": {
          "base_uri": "https://localhost:8080/"
        },
        "id": "f8LcXngYA8qn",
        "outputId": "f6cde051-b546-4f5a-8d09-b88319470c04"
      },
      "execution_count": 18,
      "outputs": [
        {
          "output_type": "stream",
          "name": "stdout",
          "text": [
            "loss:  4.899497696442268e-09\n"
          ]
        }
      ]
    },
    {
      "cell_type": "code",
      "source": [
        "print('accuracy: ', evaluation[1])"
      ],
      "metadata": {
        "colab": {
          "base_uri": "https://localhost:8080/"
        },
        "id": "D6JKHhaGBAZf",
        "outputId": "7152484b-b2a9-469d-debd-0d40da5ac675"
      },
      "execution_count": 19,
      "outputs": [
        {
          "output_type": "stream",
          "name": "stdout",
          "text": [
            "accuracy:  1.0\n"
          ]
        }
      ]
    },
    {
      "cell_type": "code",
      "source": [
        "plt.plot(history.history['loss'])"
      ],
      "metadata": {
        "colab": {
          "base_uri": "https://localhost:8080/",
          "height": 283
        },
        "id": "Ayil8iEYBKcF",
        "outputId": "98b2780b-f5e2-4239-a7c3-58511b2f5924"
      },
      "execution_count": 20,
      "outputs": [
        {
          "output_type": "execute_result",
          "data": {
            "text/plain": [
              "[<matplotlib.lines.Line2D at 0x7f98ae460dc0>]"
            ]
          },
          "metadata": {},
          "execution_count": 20
        },
        {
          "output_type": "display_data",
          "data": {
            "text/plain": [
              "<Figure size 432x288 with 1 Axes>"
            ],
            "image/png": "[encoded data removed]"
          },
          "metadata": {
            "needs_background": "light"
          }
        }
      ]
    },
    {
      "cell_type": "code",
      "source": [
        "plt.plot(history.history['accuracy'])"
      ],
      "metadata": {
        "colab": {
          "base_uri": "https://localhost:8080/",
          "height": 283
        },
        "id": "cjsEtGoRBtmQ",
        "outputId": "95620d4e-9846-4233-e044-3975d21fa3dc"
      },
      "execution_count": 21,
      "outputs": [
        {
          "output_type": "execute_result",
          "data": {
            "text/plain": [
              "[<matplotlib.lines.Line2D at 0x7f98ae1ef6a0>]"
            ]
          },
          "metadata": {},
          "execution_count": 21
        },
        {
          "output_type": "display_data",
          "data": {
            "text/plain": [
              "<Figure size 432x288 with 1 Axes>"
            ],
            "image/png": "[encoded data removed]"
          },
          "metadata": {
            "needs_background": "light"
          }
        }
      ]
    },
    {
      "cell_type": "code",
      "source": [],
      "metadata": {
        "id": "uJX0HpvkBzVL"
      },
      "execution_count": null,
      "outputs": []
    }
  ]
}