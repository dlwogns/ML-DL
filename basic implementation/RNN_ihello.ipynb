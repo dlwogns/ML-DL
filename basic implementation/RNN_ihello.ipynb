{
  "nbformat": 4,
  "nbformat_minor": 0,
  "metadata": {
    "colab": {
      "provenance": [],
      "mount_file_id": "1X9rtqeLkhumMOFjnLpuV3O9s_Lj6ghhL",
      "authorship_tag": "ABX9TyNcuAzWievXxG63I3irB6cf",
      "include_colab_link": true
    },
    "kernelspec": {
      "name": "python3",
      "display_name": "Python 3"
    },
    "language_info": {
      "name": "python"
    }
  },
  "cells": [
    {
      "cell_type": "markdown",
      "metadata": {
        "id": "view-in-github",
        "colab_type": "text"
      },
      "source": [
        "<a href=\"https://colab.research.google.com/github/dlwogns/ML-DL/blob/main/basic%20implementation/RNN_ihello.ipynb\" target=\"_parent\"><img src=\"https://colab.research.google.com/assets/colab-badge.svg\" alt=\"Open In Colab\"/></a>"
      ]
    },
    {
      "cell_type": "code",
      "execution_count": 2,
      "metadata": {
        "id": "rOa9V2NUdAme"
      },
      "outputs": [],
      "source": [
        "import numpy as np\n",
        "import pandas as pd\n",
        "import matplotlib.pyplot as plt\n",
        "import seaborn as sns\n",
        "import plotly.express as px\n",
        "import matplotlib.dates as mdates\n",
        "import tensorflow as tf"
      ]
    },
    {
      "cell_type": "markdown",
      "source": [
        "RNN INPUT dimension을 살펴보자.<br>\n",
        "[\n",
        "[ [0,0,0,1], [0,0,1,0], [0,1,0,0] ]\n",
        "\n",
        "[ [0,0,0,1], [0,0,1,0], [0,1,0,0] ]\n",
        "\n",
        "[ [0,0,0,1], [0,0,1,0], [0,1,0,0] ]\n",
        "]\n",
        "<br>의 데이터가 들어오면\n",
        "(3, 3, 4)이다.<br>\n",
        "첫번째 인자는 batch_size로 이 데이터에선 3개이다.<br>\n",
        "두번째는 sequence_length로, 여기선 3이된다.<br>\n",
        "세번째는 one-hot size, hiddensize로 0,0,1,0과 같이 4개이므로 4이다."
      ],
      "metadata": {
        "id": "r9NZj6694YcH"
      }
    },
    {
      "cell_type": "code",
      "source": [
        "idx2char = ['h','i','e','l','o']\n",
        "# hihell -> ihello\n",
        "# char을 one hot encoding으로, 즉 index로 변형시킨다.\n",
        "# x_data = [[0,1,0,2,3,3]]\n",
        "y_data = [[1,0,2,3,3,4]]"
      ],
      "metadata": {
        "id": "83QicGpkdEAu"
      },
      "execution_count": 3,
      "outputs": []
    },
    {
      "cell_type": "code",
      "source": [
        "num_classes = 5 #output size\n",
        "input_dim = 5 \n",
        "# h -> [1,0,0,0,0]과 같이 5개로 표현하기 때문에 class는 5이다.\n",
        "# one-hot size, same as hidden size\n",
        "sequence_length = 6 # ihello의 크기, 6\n",
        "learning_rate = 0.1"
      ],
      "metadata": {
        "id": "AF-qbqzedmPo"
      },
      "execution_count": 4,
      "outputs": []
    },
    {
      "cell_type": "code",
      "source": [
        "x_one_hot = np.array([[[1, 0, 0, 0, 0],    # h 0\n",
        "                       [0, 1, 0, 0, 0],    # i 1\n",
        "                       [1, 0, 0, 0, 0],    # h 0\n",
        "                       [0, 0, 1, 0, 0],    # e 2\n",
        "                       [0, 0, 0, 1, 0],    # l 3\n",
        "                       [0, 0, 0, 1, 0]]],  # l 3\n",
        "                     dtype=np.float32)\n",
        "y_one_hot = tf.keras.utils.to_categorical(y_data, num_classes = num_classes)"
      ],
      "metadata": {
        "id": "CyztLOhp_lkJ"
      },
      "execution_count": 5,
      "outputs": []
    },
    {
      "cell_type": "code",
      "source": [
        "tf.model = tf.keras.Sequential()"
      ],
      "metadata": {
        "id": "29odqOAh_tsR"
      },
      "execution_count": 7,
      "outputs": []
    },
    {
      "cell_type": "code",
      "source": [
        "cell = tf.keras.layers.LSTMCell(units=num_classes, input_shape=(sequence_length, input_dim))\n",
        "# input_shape = (1,6,5) 상단의 설명 참조.\n",
        "# units = output_shape, 5\n",
        "tf.model.add(tf.keras.layers.RNN(cell=cell, return_sequences=True))\n",
        "tf.model.add(tf.keras.layers.TimeDistributed(tf.keras.layers.Dense(units=num_classes, activation='sigmoid')))\n",
        "tf.model.compile(loss='categorical_crossentropy', optimizer=tf.keras.optimizers.Adam(lr=learning_rate), metrics=['accuracy'])"
      ],
      "metadata": {
        "colab": {
          "base_uri": "https://localhost:8080/"
        },
        "id": "XkcUg6fa_uqO",
        "outputId": "fd6590a4-1e76-4f28-a2e9-06ddeea632de"
      },
      "execution_count": 9,
      "outputs": [
        {
          "output_type": "stream",
          "name": "stderr",
          "text": [
            "/usr/local/lib/python3.8/dist-packages/keras/optimizers/optimizer_v2/adam.py:110: UserWarning: The `lr` argument is deprecated, use `learning_rate` instead.\n",
            "  super(Adam, self).__init__(name, **kwargs)\n"
          ]
        }
      ]
    },
    {
      "cell_type": "code",
      "source": [
        "tf.model.fit(x_one_hot, y_one_hot, epochs=50)"
      ],
      "metadata": {
        "colab": {
          "base_uri": "https://localhost:8080/"
        },
        "id": "TNR32hUBB2kt",
        "outputId": "93c18f2e-9202-4be6-cd90-30ea6711ca65"
      },
      "execution_count": 10,
      "outputs": [
        {
          "output_type": "stream",
          "name": "stdout",
          "text": [
            "Epoch 1/50\n",
            "1/1 [==============================] - 2s 2s/step - loss: 1.6090 - accuracy: 0.3333\n",
            "Epoch 2/50\n",
            "1/1 [==============================] - 0s 10ms/step - loss: 1.5528 - accuracy: 0.3333\n",
            "Epoch 3/50\n",
            "1/1 [==============================] - 0s 8ms/step - loss: 1.4964 - accuracy: 0.3333\n",
            "Epoch 4/50\n",
            "1/1 [==============================] - 0s 8ms/step - loss: 1.4392 - accuracy: 0.3333\n",
            "Epoch 5/50\n",
            "1/1 [==============================] - 0s 10ms/step - loss: 1.3731 - accuracy: 0.3333\n",
            "Epoch 6/50\n",
            "1/1 [==============================] - 0s 14ms/step - loss: 1.2942 - accuracy: 0.3333\n",
            "Epoch 7/50\n",
            "1/1 [==============================] - 0s 9ms/step - loss: 1.2123 - accuracy: 0.3333\n",
            "Epoch 8/50\n",
            "1/1 [==============================] - 0s 10ms/step - loss: 1.1360 - accuracy: 0.3333\n",
            "Epoch 9/50\n",
            "1/1 [==============================] - 0s 9ms/step - loss: 1.0631 - accuracy: 0.3333\n",
            "Epoch 10/50\n",
            "1/1 [==============================] - 0s 11ms/step - loss: 0.9910 - accuracy: 0.3333\n",
            "Epoch 11/50\n",
            "1/1 [==============================] - 0s 11ms/step - loss: 0.9243 - accuracy: 0.5000\n",
            "Epoch 12/50\n",
            "1/1 [==============================] - 0s 10ms/step - loss: 0.8661 - accuracy: 0.6667\n",
            "Epoch 13/50\n",
            "1/1 [==============================] - 0s 16ms/step - loss: 0.8138 - accuracy: 0.6667\n",
            "Epoch 14/50\n",
            "1/1 [==============================] - 0s 14ms/step - loss: 0.7637 - accuracy: 0.6667\n",
            "Epoch 15/50\n",
            "1/1 [==============================] - 0s 12ms/step - loss: 0.7173 - accuracy: 0.8333\n",
            "Epoch 16/50\n",
            "1/1 [==============================] - 0s 11ms/step - loss: 0.6742 - accuracy: 0.8333\n",
            "Epoch 17/50\n",
            "1/1 [==============================] - 0s 10ms/step - loss: 0.6325 - accuracy: 0.8333\n",
            "Epoch 18/50\n",
            "1/1 [==============================] - 0s 13ms/step - loss: 0.5902 - accuracy: 0.8333\n",
            "Epoch 19/50\n",
            "1/1 [==============================] - 0s 12ms/step - loss: 0.5452 - accuracy: 0.8333\n",
            "Epoch 20/50\n",
            "1/1 [==============================] - 0s 15ms/step - loss: 0.5003 - accuracy: 0.8333\n",
            "Epoch 21/50\n",
            "1/1 [==============================] - 0s 9ms/step - loss: 0.4568 - accuracy: 0.8333\n",
            "Epoch 22/50\n",
            "1/1 [==============================] - 0s 12ms/step - loss: 0.4169 - accuracy: 0.8333\n",
            "Epoch 23/50\n",
            "1/1 [==============================] - 0s 9ms/step - loss: 0.3793 - accuracy: 0.8333\n",
            "Epoch 24/50\n",
            "1/1 [==============================] - 0s 11ms/step - loss: 0.3447 - accuracy: 0.8333\n",
            "Epoch 25/50\n",
            "1/1 [==============================] - 0s 11ms/step - loss: 0.3143 - accuracy: 0.8333\n",
            "Epoch 26/50\n",
            "1/1 [==============================] - 0s 13ms/step - loss: 0.2904 - accuracy: 0.8333\n",
            "Epoch 27/50\n",
            "1/1 [==============================] - 0s 9ms/step - loss: 0.2698 - accuracy: 0.8333\n",
            "Epoch 28/50\n",
            "1/1 [==============================] - 0s 16ms/step - loss: 0.2501 - accuracy: 0.8333\n",
            "Epoch 29/50\n",
            "1/1 [==============================] - 0s 14ms/step - loss: 0.2324 - accuracy: 0.8333\n",
            "Epoch 30/50\n",
            "1/1 [==============================] - 0s 9ms/step - loss: 0.2171 - accuracy: 0.8333\n",
            "Epoch 31/50\n",
            "1/1 [==============================] - 0s 11ms/step - loss: 0.2041 - accuracy: 0.8333\n",
            "Epoch 32/50\n",
            "1/1 [==============================] - 0s 10ms/step - loss: 0.1923 - accuracy: 0.8333\n",
            "Epoch 33/50\n",
            "1/1 [==============================] - 0s 12ms/step - loss: 0.1819 - accuracy: 0.8333\n",
            "Epoch 34/50\n",
            "1/1 [==============================] - 0s 10ms/step - loss: 0.1727 - accuracy: 0.8333\n",
            "Epoch 35/50\n",
            "1/1 [==============================] - 0s 10ms/step - loss: 0.1647 - accuracy: 0.8333\n",
            "Epoch 36/50\n",
            "1/1 [==============================] - 0s 8ms/step - loss: 0.1580 - accuracy: 0.8333\n",
            "Epoch 37/50\n",
            "1/1 [==============================] - 0s 9ms/step - loss: 0.1524 - accuracy: 0.8333\n",
            "Epoch 38/50\n",
            "1/1 [==============================] - 0s 10ms/step - loss: 0.1479 - accuracy: 0.8333\n",
            "Epoch 39/50\n",
            "1/1 [==============================] - 0s 9ms/step - loss: 0.1441 - accuracy: 0.8333\n",
            "Epoch 40/50\n",
            "1/1 [==============================] - 0s 12ms/step - loss: 0.1410 - accuracy: 0.8333\n",
            "Epoch 41/50\n",
            "1/1 [==============================] - 0s 13ms/step - loss: 0.1384 - accuracy: 0.8333\n",
            "Epoch 42/50\n",
            "1/1 [==============================] - 0s 10ms/step - loss: 0.1362 - accuracy: 0.8333\n",
            "Epoch 43/50\n",
            "1/1 [==============================] - 0s 12ms/step - loss: 0.1344 - accuracy: 0.8333\n",
            "Epoch 44/50\n",
            "1/1 [==============================] - 0s 15ms/step - loss: 0.1328 - accuracy: 0.8333\n",
            "Epoch 45/50\n",
            "1/1 [==============================] - 0s 13ms/step - loss: 0.1315 - accuracy: 0.8333\n",
            "Epoch 46/50\n",
            "1/1 [==============================] - 0s 14ms/step - loss: 0.1303 - accuracy: 0.8333\n",
            "Epoch 47/50\n",
            "1/1 [==============================] - 0s 8ms/step - loss: 0.1293 - accuracy: 0.8333\n",
            "Epoch 48/50\n",
            "1/1 [==============================] - 0s 13ms/step - loss: 0.1284 - accuracy: 0.8333\n",
            "Epoch 49/50\n",
            "1/1 [==============================] - 0s 12ms/step - loss: 0.1276 - accuracy: 0.8333\n",
            "Epoch 50/50\n",
            "1/1 [==============================] - 0s 12ms/step - loss: 0.1269 - accuracy: 0.8333\n"
          ]
        },
        {
          "output_type": "execute_result",
          "data": {
            "text/plain": [
              "<keras.callbacks.History at 0x7f5f7b92f040>"
            ]
          },
          "metadata": {},
          "execution_count": 10
        }
      ]
    },
    {
      "cell_type": "code",
      "source": [
        "tf.model.summary()"
      ],
      "metadata": {
        "colab": {
          "base_uri": "https://localhost:8080/"
        },
        "id": "jqPqkkWLB99x",
        "outputId": "de89a219-5a31-469d-8142-368d78aa7fe5"
      },
      "execution_count": 12,
      "outputs": [
        {
          "output_type": "stream",
          "name": "stdout",
          "text": [
            "Model: \"sequential\"\n",
            "_________________________________________________________________\n",
            " Layer (type)                Output Shape              Param #   \n",
            "=================================================================\n",
            " rnn (RNN)                   (None, 6, 5)              220       \n",
            "                                                                 \n",
            " time_distributed (TimeDistr  (None, 6, 5)             30        \n",
            " ibuted)                                                         \n",
            "                                                                 \n",
            "=================================================================\n",
            "Total params: 250\n",
            "Trainable params: 250\n",
            "Non-trainable params: 0\n",
            "_________________________________________________________________\n"
          ]
        }
      ]
    },
    {
      "cell_type": "code",
      "source": [
        "predictions = tf.model.predict(x_one_hot)\n",
        "for i, prediction in enumerate(predictions):\n",
        "    print(prediction)\n",
        "    # print char using argmax, dict\n",
        "    result_str = [idx2char[c] for c in np.argmax(prediction, axis=1)]\n",
        "    print(\"\\tPrediction str: \", ''.join(result_str))"
      ],
      "metadata": {
        "colab": {
          "base_uri": "https://localhost:8080/"
        },
        "id": "2WMcSTUxCBmx",
        "outputId": "4c8b4470-aefb-4d76-cf85-10c1cadc63b4"
      },
      "execution_count": 13,
      "outputs": [
        {
          "output_type": "stream",
          "name": "stdout",
          "text": [
            "1/1 [==============================] - 1s 554ms/step\n",
            "[[3.2675378e-03 6.6963291e-01 1.7389396e-03 3.8829970e-03 2.0300760e-03]\n",
            " [1.7841005e-01 3.9871735e-04 5.8803573e-04 4.0056073e-04 2.0226369e-05]\n",
            " [1.8659845e-03 7.8272098e-04 5.2956784e-01 9.6476497e-04 1.2250486e-05]\n",
            " [6.6049094e-04 1.9047111e-05 2.7177139e-04 2.9484957e-01 2.7382505e-04]\n",
            " [5.8789866e-04 6.1743076e-06 4.0323263e-05 9.0207225e-01 8.1771715e-03]\n",
            " [8.4616295e-06 9.9477591e-03 9.5990058e-03 9.9918044e-01 9.7872043e-01]]\n",
            "\tPrediction str:  ihelll\n"
          ]
        }
      ]
    },
    {
      "cell_type": "code",
      "source": [],
      "metadata": {
        "id": "eK07DEZSCHvO"
      },
      "execution_count": null,
      "outputs": []
    }
  ]
}