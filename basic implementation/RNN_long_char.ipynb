{
  "nbformat": 4,
  "nbformat_minor": 0,
  "metadata": {
    "colab": {
      "provenance": [],
      "authorship_tag": "ABX9TyP90/2BPQwGvRLl0CIoWFes",
      "include_colab_link": true
    },
    "kernelspec": {
      "name": "python3",
      "display_name": "Python 3"
    },
    "language_info": {
      "name": "python"
    }
  },
  "cells": [
    {
      "cell_type": "markdown",
      "metadata": {
        "id": "view-in-github",
        "colab_type": "text"
      },
      "source": [
        "<a href=\"https://colab.research.google.com/github/dlwogns/ML-DL/blob/main/basic%20implementation/RNN_long_char.ipynb\" target=\"_parent\"><img src=\"https://colab.research.google.com/assets/colab-badge.svg\" alt=\"Open In Colab\"/></a>"
      ]
    },
    {
      "cell_type": "code",
      "execution_count": 1,
      "metadata": {
        "id": "O5lOPT8mC5ed"
      },
      "outputs": [],
      "source": [
        "import tensorflow as tf\n",
        "import numpy as np"
      ]
    },
    {
      "cell_type": "code",
      "source": [
        "sample = \"if you want you\"\n",
        "idx2char = list(set(sample))\n",
        "#set은 sample에 있는 모든 char의 집합을 생성한다.\n",
        "#그러므로 idx2char은 ['i', 'u', 'w', 't', 'f', 'o', 'n', ' ', 'y', 'a']가 된다.\n",
        "char2idx = {c: i for i, c in enumerate(idx2char)}\n",
        "# idx2char의 요소들을 각각의 인덱스와 매핑한다.\n",
        "# \n",
        "# {'i': 0,\n",
        "#  'u': 1,\n",
        "#  'w': 2,\n",
        "#  't': 3,\n",
        "#  'f': 4,\n",
        "#  'o': 5,\n",
        "#  'n': 6,\n",
        "#  ' ': 7,\n",
        "#  'y': 8,\n",
        "#  'a': 9}"
      ],
      "metadata": {
        "id": "4UM4L0WbDQit"
      },
      "execution_count": 4,
      "outputs": []
    },
    {
      "cell_type": "code",
      "source": [
        "sample_idx = [char2idx[c] for c in sample]"
      ],
      "metadata": {
        "id": "csdhqYWsDbpt"
      },
      "execution_count": 8,
      "outputs": []
    },
    {
      "cell_type": "code",
      "source": [
        "x_data = [sample_idx[:-1]]\n",
        "y_data = [sample_idx[1:]]"
      ],
      "metadata": {
        "id": "N0yOdgDkEeaF"
      },
      "execution_count": 10,
      "outputs": []
    },
    {
      "cell_type": "code",
      "source": [
        "# hyper parameters\n",
        "dic_size = len(char2idx) # RNN input size (one hot size)\n",
        "hidden_size = len(char2idx) # RNN output size, 나올때도 one hot size맞춰야되기 때문에 위랑 같다.\n",
        "num_classes = len(char2idx) # final output size\n",
        "batch_size = 1 # 이 데이터에서 배치는 sample 하나밖에 없다.\n",
        "sequence_length = len(sample) - 1 #x, ydata가 1개씩 덜 샘플링했기 때문."
      ],
      "metadata": {
        "id": "RN2o6hqrEmkv"
      },
      "execution_count": 11,
      "outputs": []
    },
    {
      "cell_type": "code",
      "source": [
        "x_one_hot_eager = tf.one_hot(x_data, num_classes)\n",
        "x_one_hot_numpy = tf.keras.utils.to_categorical(x_data, num_classes)\n",
        "y_one_hot_eager = tf.one_hot(y_data, num_classes)"
      ],
      "metadata": {
        "id": "VP4Oeq-QF2Ek"
      },
      "execution_count": 12,
      "outputs": []
    },
    {
      "cell_type": "code",
      "source": [
        "tf.model = tf.keras.Sequential()"
      ],
      "metadata": {
        "id": "BlkxCCsyGKLK"
      },
      "execution_count": 13,
      "outputs": []
    },
    {
      "cell_type": "code",
      "source": [
        "tf.model.add(tf.keras.layers.LSTM(units = num_classes, input_shape = (sequence_length, dic_size), return_sequences=True))\n",
        "tf.model.add(tf.keras.layers.TimeDistributed(tf.keras.layers.Dense(units=num_classes, activation='softmax')))"
      ],
      "metadata": {
        "id": "LLAxW4QZGN6z"
      },
      "execution_count": 14,
      "outputs": []
    },
    {
      "cell_type": "code",
      "source": [
        "tf.model.summary()"
      ],
      "metadata": {
        "colab": {
          "base_uri": "https://localhost:8080/"
        },
        "id": "u4DyDOcrG9It",
        "outputId": "f2adb1ab-bbcb-465d-d1d9-09a90c088c93"
      },
      "execution_count": 15,
      "outputs": [
        {
          "output_type": "stream",
          "name": "stdout",
          "text": [
            "Model: \"sequential\"\n",
            "_________________________________________________________________\n",
            " Layer (type)                Output Shape              Param #   \n",
            "=================================================================\n",
            " lstm (LSTM)                 (None, 14, 10)            840       \n",
            "                                                                 \n",
            " time_distributed (TimeDistr  (None, 14, 10)           110       \n",
            " ibuted)                                                         \n",
            "                                                                 \n",
            "=================================================================\n",
            "Total params: 950\n",
            "Trainable params: 950\n",
            "Non-trainable params: 0\n",
            "_________________________________________________________________\n"
          ]
        }
      ]
    },
    {
      "cell_type": "code",
      "source": [
        "tf.model.compile(loss='categorical_crossentropy', optimizer=tf.keras.optimizers.Adam(lr=0.1),\n",
        "                 metrics=['accuracy'])"
      ],
      "metadata": {
        "colab": {
          "base_uri": "https://localhost:8080/"
        },
        "id": "dLpQw6PtG_g8",
        "outputId": "e9f591b3-fa31-464f-ec80-885baafdf2be"
      },
      "execution_count": 17,
      "outputs": [
        {
          "output_type": "stream",
          "name": "stderr",
          "text": [
            "/usr/local/lib/python3.8/dist-packages/keras/optimizers/optimizer_v2/adam.py:110: UserWarning: The `lr` argument is deprecated, use `learning_rate` instead.\n",
            "  super(Adam, self).__init__(name, **kwargs)\n"
          ]
        }
      ]
    },
    {
      "cell_type": "code",
      "source": [
        "tf.model.fit(x_one_hot_eager, y_one_hot_eager, epochs=50)"
      ],
      "metadata": {
        "colab": {
          "base_uri": "https://localhost:8080/"
        },
        "id": "o3wF4myBHCXz",
        "outputId": "c7b1be83-2058-42bd-cea3-1e5c7f6d29ec"
      },
      "execution_count": 18,
      "outputs": [
        {
          "output_type": "stream",
          "name": "stdout",
          "text": [
            "Epoch 1/50\n",
            "1/1 [==============================] - 2s 2s/step - loss: 2.2907 - accuracy: 0.1429\n",
            "Epoch 2/50\n",
            "1/1 [==============================] - 0s 11ms/step - loss: 2.1234 - accuracy: 0.1429\n",
            "Epoch 3/50\n",
            "1/1 [==============================] - 0s 14ms/step - loss: 1.9398 - accuracy: 0.5000\n",
            "Epoch 4/50\n",
            "1/1 [==============================] - 0s 11ms/step - loss: 1.6858 - accuracy: 0.5000\n",
            "Epoch 5/50\n",
            "1/1 [==============================] - 0s 12ms/step - loss: 1.4143 - accuracy: 0.5000\n",
            "Epoch 6/50\n",
            "1/1 [==============================] - 0s 13ms/step - loss: 1.1774 - accuracy: 0.5714\n",
            "Epoch 7/50\n",
            "1/1 [==============================] - 0s 20ms/step - loss: 0.9315 - accuracy: 0.7857\n",
            "Epoch 8/50\n",
            "1/1 [==============================] - 0s 13ms/step - loss: 0.7158 - accuracy: 0.9286\n",
            "Epoch 9/50\n",
            "1/1 [==============================] - 0s 12ms/step - loss: 0.5519 - accuracy: 0.8571\n",
            "Epoch 10/50\n",
            "1/1 [==============================] - 0s 14ms/step - loss: 0.3985 - accuracy: 1.0000\n",
            "Epoch 11/50\n",
            "1/1 [==============================] - 0s 18ms/step - loss: 0.2928 - accuracy: 1.0000\n",
            "Epoch 12/50\n",
            "1/1 [==============================] - 0s 11ms/step - loss: 0.2048 - accuracy: 1.0000\n",
            "Epoch 13/50\n",
            "1/1 [==============================] - 0s 10ms/step - loss: 0.1404 - accuracy: 1.0000\n",
            "Epoch 14/50\n",
            "1/1 [==============================] - 0s 12ms/step - loss: 0.0972 - accuracy: 1.0000\n",
            "Epoch 15/50\n",
            "1/1 [==============================] - 0s 12ms/step - loss: 0.0679 - accuracy: 1.0000\n",
            "Epoch 16/50\n",
            "1/1 [==============================] - 0s 13ms/step - loss: 0.0479 - accuracy: 1.0000\n",
            "Epoch 17/50\n",
            "1/1 [==============================] - 0s 16ms/step - loss: 0.0341 - accuracy: 1.0000\n",
            "Epoch 18/50\n",
            "1/1 [==============================] - 0s 10ms/step - loss: 0.0244 - accuracy: 1.0000\n",
            "Epoch 19/50\n",
            "1/1 [==============================] - 0s 10ms/step - loss: 0.0177 - accuracy: 1.0000\n",
            "Epoch 20/50\n",
            "1/1 [==============================] - 0s 12ms/step - loss: 0.0133 - accuracy: 1.0000\n",
            "Epoch 21/50\n",
            "1/1 [==============================] - 0s 12ms/step - loss: 0.0103 - accuracy: 1.0000\n",
            "Epoch 22/50\n",
            "1/1 [==============================] - 0s 11ms/step - loss: 0.0083 - accuracy: 1.0000\n",
            "Epoch 23/50\n",
            "1/1 [==============================] - 0s 11ms/step - loss: 0.0069 - accuracy: 1.0000\n",
            "Epoch 24/50\n",
            "1/1 [==============================] - 0s 11ms/step - loss: 0.0059 - accuracy: 1.0000\n",
            "Epoch 25/50\n",
            "1/1 [==============================] - 0s 13ms/step - loss: 0.0051 - accuracy: 1.0000\n",
            "Epoch 26/50\n",
            "1/1 [==============================] - 0s 10ms/step - loss: 0.0044 - accuracy: 1.0000\n",
            "Epoch 27/50\n",
            "1/1 [==============================] - 0s 14ms/step - loss: 0.0038 - accuracy: 1.0000\n",
            "Epoch 28/50\n",
            "1/1 [==============================] - 0s 10ms/step - loss: 0.0033 - accuracy: 1.0000\n",
            "Epoch 29/50\n",
            "1/1 [==============================] - 0s 22ms/step - loss: 0.0029 - accuracy: 1.0000\n",
            "Epoch 30/50\n",
            "1/1 [==============================] - 0s 13ms/step - loss: 0.0025 - accuracy: 1.0000\n",
            "Epoch 31/50\n",
            "1/1 [==============================] - 0s 14ms/step - loss: 0.0023 - accuracy: 1.0000\n",
            "Epoch 32/50\n",
            "1/1 [==============================] - 0s 9ms/step - loss: 0.0020 - accuracy: 1.0000\n",
            "Epoch 33/50\n",
            "1/1 [==============================] - 0s 10ms/step - loss: 0.0018 - accuracy: 1.0000\n",
            "Epoch 34/50\n",
            "1/1 [==============================] - 0s 12ms/step - loss: 0.0016 - accuracy: 1.0000\n",
            "Epoch 35/50\n",
            "1/1 [==============================] - 0s 10ms/step - loss: 0.0015 - accuracy: 1.0000\n",
            "Epoch 36/50\n",
            "1/1 [==============================] - 0s 10ms/step - loss: 0.0013 - accuracy: 1.0000\n",
            "Epoch 37/50\n",
            "1/1 [==============================] - 0s 14ms/step - loss: 0.0012 - accuracy: 1.0000\n",
            "Epoch 38/50\n",
            "1/1 [==============================] - 0s 12ms/step - loss: 0.0011 - accuracy: 1.0000\n",
            "Epoch 39/50\n",
            "1/1 [==============================] - 0s 11ms/step - loss: 0.0011 - accuracy: 1.0000\n",
            "Epoch 40/50\n",
            "1/1 [==============================] - 0s 11ms/step - loss: 9.8814e-04 - accuracy: 1.0000\n",
            "Epoch 41/50\n",
            "1/1 [==============================] - 0s 12ms/step - loss: 9.2979e-04 - accuracy: 1.0000\n",
            "Epoch 42/50\n",
            "1/1 [==============================] - 0s 11ms/step - loss: 8.7887e-04 - accuracy: 1.0000\n",
            "Epoch 43/50\n",
            "1/1 [==============================] - 0s 9ms/step - loss: 8.3409e-04 - accuracy: 1.0000\n",
            "Epoch 44/50\n",
            "1/1 [==============================] - 0s 12ms/step - loss: 7.9444e-04 - accuracy: 1.0000\n",
            "Epoch 45/50\n",
            "1/1 [==============================] - 0s 9ms/step - loss: 7.5903e-04 - accuracy: 1.0000\n",
            "Epoch 46/50\n",
            "1/1 [==============================] - 0s 14ms/step - loss: 7.2724e-04 - accuracy: 1.0000\n",
            "Epoch 47/50\n",
            "1/1 [==============================] - 0s 12ms/step - loss: 6.9858e-04 - accuracy: 1.0000\n",
            "Epoch 48/50\n",
            "1/1 [==============================] - 0s 13ms/step - loss: 6.7255e-04 - accuracy: 1.0000\n",
            "Epoch 49/50\n",
            "1/1 [==============================] - 0s 19ms/step - loss: 6.4889e-04 - accuracy: 1.0000\n",
            "Epoch 50/50\n",
            "1/1 [==============================] - 0s 11ms/step - loss: 6.2734e-04 - accuracy: 1.0000\n"
          ]
        },
        {
          "output_type": "execute_result",
          "data": {
            "text/plain": [
              "<keras.callbacks.History at 0x7f62a6619160>"
            ]
          },
          "metadata": {},
          "execution_count": 18
        }
      ]
    },
    {
      "cell_type": "code",
      "source": [
        "predictions = tf.model.predict(x_one_hot_eager)"
      ],
      "metadata": {
        "colab": {
          "base_uri": "https://localhost:8080/"
        },
        "id": "D1USklqdHGCJ",
        "outputId": "8e68f9bd-098a-4596-9bc9-3de23153f13b"
      },
      "execution_count": 19,
      "outputs": [
        {
          "output_type": "stream",
          "name": "stdout",
          "text": [
            "1/1 [==============================] - 0s 473ms/step\n"
          ]
        }
      ]
    },
    {
      "cell_type": "code",
      "source": [
        "predictions.shape"
      ],
      "metadata": {
        "colab": {
          "base_uri": "https://localhost:8080/"
        },
        "id": "I0tJoNR5HMuw",
        "outputId": "b195314a-772d-429b-e73a-8e1a57379a00"
      },
      "execution_count": 22,
      "outputs": [
        {
          "output_type": "execute_result",
          "data": {
            "text/plain": [
              "(1, 14, 10)"
            ]
          },
          "metadata": {},
          "execution_count": 22
        }
      ]
    },
    {
      "cell_type": "code",
      "source": [
        "for i, prediction in enumerate(predictions):\n",
        "    # print char using argmax, dict\n",
        "    result_str = [idx2char[c] for c in np.argmax(prediction, axis=1)]\n",
        "    print(\"\\tPrediction str: \", ''.join(result_str))"
      ],
      "metadata": {
        "colab": {
          "base_uri": "https://localhost:8080/"
        },
        "id": "8yY73ggbHJHe",
        "outputId": "82edc435-c105-4600-9aa1-f79cbce49de7"
      },
      "execution_count": 20,
      "outputs": [
        {
          "output_type": "stream",
          "name": "stdout",
          "text": [
            "\tPrediction str:  f you want you\n"
          ]
        }
      ]
    },
    {
      "cell_type": "code",
      "source": [],
      "metadata": {
        "id": "x2fnVIk6HLbU"
      },
      "execution_count": null,
      "outputs": []
    }
  ]
}